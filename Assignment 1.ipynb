{
 "cells": [
  {
   "cell_type": "code",
   "execution_count": null,
   "metadata": {},
   "outputs": [],
   "source": [
    "#q1\n",
    "s={\"aman\",\"222\",777,400.4}\n",
    "t=tuple(s)\n",
    "print(t)"
   ]
  },
  {
   "cell_type": "code",
   "execution_count": null,
   "metadata": {},
   "outputs": [],
   "source": [
    "#q2\n",
    "dict = {'rollno':[20227,20234,20209] ,'fname': ['kanishk','arvind','laxman'] , 'lastname': ['aadhaw','balaji','kr'] , 'dob': '2002-09-19' }\n",
    "print(dict)"
   ]
  },
  {
   "cell_type": "code",
   "execution_count": null,
   "metadata": {},
   "outputs": [],
   "source": [
    "#q3\n",
    "import numpy as np\n",
    "t=int(input())\n",
    "np.random.seed(t)\n",
    "arr=np.random.random((2,2))\n",
    "print(arr)\n"
   ]
  },
  {
   "cell_type": "code",
   "execution_count": null,
   "metadata": {},
   "outputs": [],
   "source": [
    "#q4\n",
    "import numpy as np\n",
    "arr=np.random.randint( low=0.0 , high=1.0 , size=1)\n",
    "print(arr)\n",
    "print(abs(-1234))"
   ]
  },
  {
   "cell_type": "code",
   "execution_count": null,
   "metadata": {},
   "outputs": [],
   "source": [
    "#q5\n",
    "import numpy as np\n",
    "arr=np.random.randint( low=20 , high=90 , size=1,dtype=int)\n",
    "print(arr)"
   ]
  },
  {
   "cell_type": "code",
   "execution_count": null,
   "metadata": {},
   "outputs": [],
   "source": [
    "#q6\n",
    "import random\n",
    "set={11,12,13,14,15}\n",
    "d=tuple(set)\n",
    "a=random.sample(set,3)\n",
    "print(a)\n",
    "b=random.sample(set,5)\n",
    "print(b)\n",
    "l=random.choice(d)\n",
    "print(l)"
   ]
  },
  {
   "cell_type": "code",
   "execution_count": 75,
   "metadata": {},
   "outputs": [
    {
     "name": "stdout",
     "output_type": "stream",
     "text": [
      "The King is Dead, Long Live The King\n"
     ]
    }
   ],
   "source": [
    "#q7\n",
    "str=\"The King is Dead, Long Live The King\"\n",
    "fi=open(\"D:\\\\fil.txt\",\"w\")\n",
    "fi.close()\n",
    "fi=open(\"D:\\\\fil.txt\",\"r\")\n",
    "print(fi.read())\n",
    "\n"
   ]
  },
  {
   "cell_type": "code",
   "execution_count": 3,
   "metadata": {},
   "outputs": [
    {
     "name": "stdout",
     "output_type": "stream",
     "text": [
      "Amount is between 200 and 500\n",
      "10\n",
      "11\n",
      "12\n",
      "13\n",
      "14\n",
      "0\n",
      "1\n",
      "2\n",
      "3\n"
     ]
    }
   ],
   "source": [
    "#q8\n",
    "price = 50\n",
    "quantity = 5\n",
    "amount = price*quantity\n",
    "\n",
    "if amount > 100:\n",
    "    if amount > 500:\n",
    "        print(\"Amount is greater than 500\")\n",
    "    else:\n",
    "        if amount < 500 and amount > 400:\n",
    "            print(\"Amount is between 500 and 400\")\n",
    "        elif amount < 500 and amount > 300:\n",
    "            print(\"Amount is between 300 and 500\")\n",
    "        else:\n",
    "            print(\"Amount is between 200 and 500\")\n",
    "elif amount == 100:\n",
    "    print(\"Amount is 100\")\n",
    "else:\n",
    "    print(\"Amount is less than 100\")\n",
    "\n",
    "for x in range(10,20):\n",
    "\t\tif(x==15):break\n",
    "               \n",
    "\t\t#if(x%5==0):\n",
    "        #continue\n",
    "\t\tprint(x)\n",
    "\n",
    "x=0\n",
    "#define a while loop\n",
    "while(x<4):\n",
    "\t\tprint(x)\n",
    "\t\tx=x+1"
   ]
  },
  {
   "cell_type": "code",
   "execution_count": 80,
   "metadata": {},
   "outputs": [
    {
     "name": "stdout",
     "output_type": "stream",
     "text": [
      "The King is Dead, Long Live The King\n",
      "T\n",
      " K\n",
      " King is Dead, Long Live The King\n",
      "['The', 'King', 'is', 'Dead,', 'Long', 'Live', 'The', 'King']\n"
     ]
    }
   ],
   "source": [
    "#q9\n",
    "str=\"The King is Dead, Long Live The King\"\n",
    "print(str)\n",
    "print(str[0])\n",
    "print(str[3:5])\n",
    "print(str[3:])\n",
    "print(str.split())\n"
   ]
  },
  {
   "cell_type": "code",
   "execution_count": 85,
   "metadata": {},
   "outputs": [
    {
     "name": "stdout",
     "output_type": "stream",
     "text": [
      "[1 4]\n"
     ]
    }
   ],
   "source": [
    "#q10\n",
    "import numpy as np\n",
    "li=[1,4,5,8]\n",
    "arr=np.array(li)\n",
    "print(arr[0:2])"
   ]
  },
  {
   "cell_type": "code",
   "execution_count": 87,
   "metadata": {},
   "outputs": [
    {
     "name": "stdout",
     "output_type": "stream",
     "text": [
      "[[1 2 3]\n",
      " [4 5 6]]\n"
     ]
    }
   ],
   "source": [
    "#q11\n",
    "import numpy as np\n",
    "arr=np.array(([1,2,3],[4,5,6]))\n",
    "print(arr)"
   ]
  },
  {
   "cell_type": "code",
   "execution_count": 100,
   "metadata": {},
   "outputs": [
    {
     "name": "stdout",
     "output_type": "stream",
     "text": [
      "[4 5 6]\n",
      "[2 5]\n",
      "2\n"
     ]
    }
   ],
   "source": [
    "#q12\n",
    "import numpy as np\n",
    "arr=np.array(([1,2,3],[4,5,6]))\n",
    "print(arr[1])\n",
    "print(arr[0:2,1])\n",
    "print(len(arr))"
   ]
  },
  {
   "cell_type": "code",
   "execution_count": 105,
   "metadata": {},
   "outputs": [
    {
     "name": "stdout",
     "output_type": "stream",
     "text": [
      "[[ 1  2]\n",
      " [ 3  4]\n",
      " [ 5  6]\n",
      " [ 7  8]\n",
      " [ 9 10]]\n",
      "[[ 1  3  5  7  9]\n",
      " [ 2  4  6  8 10]]\n"
     ]
    }
   ],
   "source": [
    "#q13\n",
    "import numpy as np\n",
    "arr=np.array([1,2,3,4,5,6,7,8,9,10])\n",
    "a=arr.reshape(5,2)\n",
    "print(a)\n",
    "print(a.transpose())"
   ]
  },
  {
   "cell_type": "code",
   "execution_count": 106,
   "metadata": {},
   "outputs": [
    {
     "name": "stdout",
     "output_type": "stream",
     "text": [
      "[1 2 3]\n"
     ]
    }
   ],
   "source": [
    "#q14\n",
    "import numpy as np\n",
    "li=[1,2,3]\n",
    "arr=np.array(li)\n",
    "print(arr)\n"
   ]
  },
  {
   "cell_type": "code",
   "execution_count": null,
   "metadata": {},
   "outputs": [],
   "source": [
    "#q15\n",
    "import numpy as np\n",
    "arr=np.array([1,2,3])\n"
   ]
  },
  {
   "cell_type": "code",
   "execution_count": 107,
   "metadata": {},
   "outputs": [
    {
     "name": "stdout",
     "output_type": "stream",
     "text": [
      "11\n"
     ]
    }
   ],
   "source": [
    "#q16\n",
    "import numpy as np\n",
    "arr=np.array([2,4,5])\n",
    "print(arr.sum())"
   ]
  },
  {
   "cell_type": "code",
   "execution_count": 108,
   "metadata": {},
   "outputs": [
    {
     "name": "stdout",
     "output_type": "stream",
     "text": [
      "427350\n"
     ]
    }
   ],
   "source": [
    "#q17\n",
    "import numpy as np\n",
    "arr=np.array([77,74,75])\n",
    "print(arr.prod())"
   ]
  },
  {
   "cell_type": "code",
   "execution_count": 111,
   "metadata": {},
   "outputs": [
    {
     "name": "stdout",
     "output_type": "stream",
     "text": [
      "12.461538461538462\n",
      "367.32544378698225\n",
      "56\n",
      "1\n",
      "1\n",
      "2.0\n",
      "12\n",
      "19.165736192147232\n"
     ]
    }
   ],
   "source": [
    "#q18\n",
    "import numpy as np\n",
    "arr=np.array([2,1,9,1,2,22,1,1,4,55,6,2,56])\n",
    "print(arr.mean())\n",
    "print(arr.var())\n",
    "print(arr.max())\n",
    "print(arr.min())\n",
    "print(arr.argmin())\n",
    "print(np.median(arr))\n",
    "print(arr.argmax())\n",
    "print(arr.std())"
   ]
  },
  {
   "cell_type": "code",
   "execution_count": 113,
   "metadata": {},
   "outputs": [
    {
     "name": "stdout",
     "output_type": "stream",
     "text": [
      "[1, 4, 5, 7]\n"
     ]
    }
   ],
   "source": [
    "#q19\n",
    "import numpy as np\n",
    "arr=np.array([1,1,4,5,5,7])\n",
    "li=[]\n",
    "for i in arr:\n",
    "    if i not in li:\n",
    "        li.append(i)\n",
    "li.sort()\n",
    "print(li)\n"
   ]
  },
  {
   "cell_type": "code",
   "execution_count": 112,
   "metadata": {},
   "outputs": [
    {
     "name": "stdout",
     "output_type": "stream",
     "text": [
      "[0 2 3]\n"
     ]
    }
   ],
   "source": [
    "#q20\n",
    "import numpy as np\n",
    "arr1=np.array([1,2,3])\n",
    "arr2=np.array([0,1,1])\n",
    "a=arr1*arr2\n",
    "print(a)"
   ]
  },
  {
   "cell_type": "code",
   "execution_count": 118,
   "metadata": {},
   "outputs": [
    {
     "name": "stdout",
     "output_type": "stream",
     "text": [
      "[-1.5+1.6583124j -1.5-1.6583124j]\n",
      "[[0.96824584+0.j        0.96824584-0.j       ]\n",
      " [0.22592403-0.1070436j 0.22592403+0.1070436j]]\n"
     ]
    }
   ],
   "source": [
    "#q21\n",
    "import numpy as np\n",
    "from numpy.linalg import eig\n",
    "a=np.array(([2,-15],[1,-5]))\n",
    "ei,ev=eig(a)\n",
    "print(ei)\n",
    "print(ev)"
   ]
  },
  {
   "cell_type": "code",
   "execution_count": 122,
   "metadata": {},
   "outputs": [
    {
     "name": "stdout",
     "output_type": "stream",
     "text": [
      "[[1.         0.15997968]\n",
      " [0.15997968 1.        ]]\n",
      "[2210]\n"
     ]
    }
   ],
   "source": [
    "#q22\n",
    "import numpy as np\n",
    "a=np.array(([11,22,11,31],[25,33,31,28]))\n",
    "convertedArray = a.astype(float)\n",
    "r=np.corrcoef(a[0],a[1])\n",
    "l=np.correlate(a[0],a[1])\n",
    "print(r)\n",
    "print(l)"
   ]
  }
 ],
 "metadata": {
  "kernelspec": {
   "display_name": "Python 3.10.6 64-bit",
   "language": "python",
   "name": "python3"
  },
  "language_info": {
   "codemirror_mode": {
    "name": "ipython",
    "version": 3
   },
   "file_extension": ".py",
   "mimetype": "text/x-python",
   "name": "python",
   "nbconvert_exporter": "python",
   "pygments_lexer": "ipython3",
   "version": "3.10.6 (tags/v3.10.6:9c7b4bd, Aug  1 2022, 21:53:49) [MSC v.1932 64 bit (AMD64)]"
  },
  "orig_nbformat": 4,
  "vscode": {
   "interpreter": {
    "hash": "1fc6cdba2313ca76ddadfdbd52b2b5b4b74121cc141d4b1ca839c1e7fe1edd9b"
   }
  }
 },
 "nbformat": 4,
 "nbformat_minor": 2
}
